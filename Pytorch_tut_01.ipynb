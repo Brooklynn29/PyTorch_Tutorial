{
  "cells": [
    {
      "cell_type": "markdown",
      "metadata": {
        "id": "view-in-github",
        "colab_type": "text"
      },
      "source": [
        "<a href=\"https://colab.research.google.com/github/Brooklynn29/PyTorch_Tutorial/blob/main/Pytorch_tut_01.ipynb\" target=\"_parent\"><img src=\"https://colab.research.google.com/assets/colab-badge.svg\" alt=\"Open In Colab\"/></a>"
      ]
    },
    {
      "cell_type": "code",
      "execution_count": 21,
      "metadata": {
        "id": "hphMwuExeCn1"
      },
      "outputs": [],
      "source": [
        "### random tensors\n"
      ]
    },
    {
      "cell_type": "code",
      "execution_count": 22,
      "metadata": {
        "id": "rQcCHpuEeIXF",
        "colab": {
          "base_uri": "https://localhost:8080/"
        },
        "outputId": "0a9e3a14-55ff-46c1-97e8-40add445c9b0"
      },
      "outputs": [
        {
          "output_type": "stream",
          "name": "stdout",
          "text": [
            "2.0.1+cu118\n"
          ]
        }
      ],
      "source": [
        "import torch\n",
        "import pandas as pd\n",
        "import numpy as np\n",
        "import matplotlib.pyplot as plt\n",
        "print(torch.__version__)\n"
      ]
    },
    {
      "cell_type": "code",
      "execution_count": 23,
      "metadata": {
        "id": "jDtczxyNhL8L",
        "colab": {
          "base_uri": "https://localhost:8080/"
        },
        "outputId": "bd955b86-d3dc-48aa-d430-dfd9408178ca"
      },
      "outputs": [
        {
          "output_type": "execute_result",
          "data": {
            "text/plain": [
              "tensor([[0.6287, 0.1607, 0.0141, 0.1725, 0.5892, 0.7300, 0.8884, 0.2370, 0.5324,\n",
              "         0.3655],\n",
              "        [0.4199, 0.5124, 0.9535, 0.3379, 0.5869, 0.7876, 0.6628, 0.7023, 0.6833,\n",
              "         0.2131],\n",
              "        [0.4716, 0.8298, 0.5444, 0.1168, 0.7206, 0.8188, 0.2645, 0.0574, 0.3577,\n",
              "         0.3606],\n",
              "        [0.0416, 0.3261, 0.8508, 0.1699, 0.8722, 0.6075, 0.2822, 0.8464, 0.0921,\n",
              "         0.6781],\n",
              "        [0.6154, 0.1622, 0.2482, 0.3239, 0.1847, 0.7821, 0.3805, 0.0508, 0.2156,\n",
              "         0.0181],\n",
              "        [0.7881, 0.4650, 0.0984, 0.3422, 0.2675, 0.2247, 0.5341, 0.6894, 0.8537,\n",
              "         0.7216],\n",
              "        [0.1114, 0.7711, 0.4458, 0.9790, 0.5125, 0.9814, 0.1930, 0.1992, 0.9815,\n",
              "         0.4555],\n",
              "        [0.1229, 0.4213, 0.1589, 0.3182, 0.4966, 0.5020, 0.1650, 0.2532, 0.7527,\n",
              "         0.3844],\n",
              "        [0.8939, 0.3274, 0.6051, 0.6528, 0.6963, 0.5266, 0.4132, 0.0046, 0.7103,\n",
              "         0.4729],\n",
              "        [0.7791, 0.3858, 0.8933, 0.6122, 0.1443, 0.9745, 0.4951, 0.3894, 0.8969,\n",
              "         0.5508]])"
            ]
          },
          "metadata": {},
          "execution_count": 23
        }
      ],
      "source": [
        "random_tensor = torch.rand(10,10)\n",
        "random_tensor"
      ]
    },
    {
      "cell_type": "code",
      "execution_count": 24,
      "metadata": {
        "id": "iqunBNuJgJRl",
        "colab": {
          "base_uri": "https://localhost:8080/"
        },
        "outputId": "33460147-071a-4eb1-f1de-be4539d9b711"
      },
      "outputs": [
        {
          "output_type": "execute_result",
          "data": {
            "text/plain": [
              "2"
            ]
          },
          "metadata": {},
          "execution_count": 24
        }
      ],
      "source": [
        "random_tensor.ndim"
      ]
    },
    {
      "cell_type": "code",
      "execution_count": 25,
      "metadata": {
        "id": "MTnLN-obe6uz",
        "colab": {
          "base_uri": "https://localhost:8080/"
        },
        "outputId": "816c66c6-e5c7-4721-b8c4-1bcd72522dc5"
      },
      "outputs": [
        {
          "output_type": "execute_result",
          "data": {
            "text/plain": [
              "(torch.Size([3, 224, 224]), 3)"
            ]
          },
          "metadata": {},
          "execution_count": 25
        }
      ],
      "source": [
        "# Create a random tensor with similar shape to an image tensor\n",
        "\n",
        "random_image_size_tensor = torch.rand(size=(3,224,224)) #colour channel(R,G,B), height , width\n",
        "random_image_size_tensor.shape,random_image_size_tensor.ndim"
      ]
    },
    {
      "cell_type": "code",
      "execution_count": 26,
      "metadata": {
        "id": "B7zlNtDbI8k3"
      },
      "outputs": [],
      "source": [
        "###zeros and ones"
      ]
    },
    {
      "cell_type": "code",
      "execution_count": 27,
      "metadata": {
        "id": "ksbzvbBrKEoW",
        "colab": {
          "base_uri": "https://localhost:8080/"
        },
        "outputId": "7dffdf84-1d44-4ab2-935d-353074486a93"
      },
      "outputs": [
        {
          "output_type": "execute_result",
          "data": {
            "text/plain": [
              "tensor([[0., 0., 0., 0.],\n",
              "        [0., 0., 0., 0.],\n",
              "        [0., 0., 0., 0.]])"
            ]
          },
          "metadata": {},
          "execution_count": 27
        }
      ],
      "source": [
        "zeros= torch.zeros(size=(3,4))\n",
        "zeros"
      ]
    },
    {
      "cell_type": "code",
      "execution_count": 28,
      "metadata": {
        "id": "Xz4B_hkDVI4z",
        "colab": {
          "base_uri": "https://localhost:8080/"
        },
        "outputId": "bc117a2e-56e2-485b-dd76-e0343918935f"
      },
      "outputs": [
        {
          "output_type": "execute_result",
          "data": {
            "text/plain": [
              "tensor([[1., 1., 1., 1., 1.],\n",
              "        [1., 1., 1., 1., 1.],\n",
              "        [1., 1., 1., 1., 1.],\n",
              "        [1., 1., 1., 1., 1.],\n",
              "        [1., 1., 1., 1., 1.]])"
            ]
          },
          "metadata": {},
          "execution_count": 28
        }
      ],
      "source": [
        "#create a tensor of all ones\n",
        "ones = torch.ones(5,5)\n",
        "ones"
      ]
    },
    {
      "cell_type": "code",
      "execution_count": 29,
      "metadata": {
        "id": "wGyb8aqHVZIq",
        "colab": {
          "base_uri": "https://localhost:8080/"
        },
        "outputId": "ed9deefd-fd21-4655-d4c6-8ea77943c987"
      },
      "outputs": [
        {
          "output_type": "execute_result",
          "data": {
            "text/plain": [
              "torch.float32"
            ]
          },
          "metadata": {},
          "execution_count": 29
        }
      ],
      "source": [
        "ones.dtype\n"
      ]
    },
    {
      "cell_type": "code",
      "execution_count": 30,
      "metadata": {
        "id": "32XAsgZmVdG3"
      },
      "outputs": [],
      "source": [
        "### creating a range of tensors"
      ]
    },
    {
      "cell_type": "markdown",
      "metadata": {
        "id": "BsN0nXgaWFfg"
      },
      "source": [
        "###Creating arange of tensors and tensors-like"
      ]
    },
    {
      "cell_type": "code",
      "execution_count": 31,
      "metadata": {
        "id": "C4ip3NtTWIMX",
        "colab": {
          "base_uri": "https://localhost:8080/"
        },
        "outputId": "ba6d2fce-3ee6-4244-dbbe-50fabe9f0cd0"
      },
      "outputs": [
        {
          "output_type": "execute_result",
          "data": {
            "text/plain": [
              "tensor([ 0,  1,  2,  3,  4,  5,  6,  7,  8,  9, 10])"
            ]
          },
          "metadata": {},
          "execution_count": 31
        }
      ],
      "source": [
        "# Use torch.range\n",
        "one_to_ten = torch.arange(0,11)\n",
        "one_to_ten"
      ]
    },
    {
      "cell_type": "code",
      "execution_count": 32,
      "metadata": {
        "id": "yBUOOPlrWfAi",
        "colab": {
          "base_uri": "https://localhost:8080/"
        },
        "outputId": "ab711bac-2ddc-421c-b078-6f548f79cb54"
      },
      "outputs": [
        {
          "output_type": "execute_result",
          "data": {
            "text/plain": [
              "tensor([  0,  29,  58,  87, 116, 145, 174, 203, 232, 261, 290, 319, 348, 377,\n",
              "        406, 435, 464, 493, 522, 551, 580, 609, 638, 667, 696, 725, 754, 783,\n",
              "        812, 841, 870, 899, 928, 957, 986])"
            ]
          },
          "metadata": {},
          "execution_count": 32
        }
      ],
      "source": [
        "one_to_thousand = torch.arange(0,1000,step=29)\n",
        "one_to_thousand\n",
        "## can also use torch.arange(start=0,end=100,step=29)\n"
      ]
    },
    {
      "cell_type": "code",
      "execution_count": 33,
      "metadata": {
        "id": "08s5WmyUXNQZ",
        "colab": {
          "base_uri": "https://localhost:8080/"
        },
        "outputId": "2b3eb3c6-aef2-46fa-8668-6050b03b036a"
      },
      "outputs": [
        {
          "output_type": "execute_result",
          "data": {
            "text/plain": [
              "tensor([0, 0, 0, 0, 0, 0, 0, 0, 0, 0, 0])"
            ]
          },
          "metadata": {},
          "execution_count": 33
        }
      ],
      "source": [
        "#Creating tensors_like\n",
        "ten_zeros = torch.zeros_like(input=one_to_ten)\n",
        "ten_zeros"
      ]
    },
    {
      "cell_type": "markdown",
      "metadata": {
        "id": "zL39PqDjarrO"
      },
      "source": [
        "###Tensor Datatypes\n",
        " Note: tensor datatypes is one of the 3 big issues/errors with Pytorch and DL you'll run into\n",
        " 1. Tensors not right datatype\n",
        " 2. Tensors not right shape\n",
        " 3. Tensors not on right device"
      ]
    },
    {
      "cell_type": "code",
      "execution_count": 34,
      "metadata": {
        "id": "erXl1hDjbReu",
        "colab": {
          "base_uri": "https://localhost:8080/"
        },
        "outputId": "191c605e-9993-45c1-fd39-30948e3d076a"
      },
      "outputs": [
        {
          "output_type": "execute_result",
          "data": {
            "text/plain": [
              "tensor([3., 6., 9.])"
            ]
          },
          "metadata": {},
          "execution_count": 34
        }
      ],
      "source": [
        "# Float 32 tensor\n",
        "float_32_tensor = torch.tensor([3.0,6.0,9.0],\n",
        "                               dtype =None,#what datatype is the tensor(eg. float32 or float 16)\n",
        "                               device=None, # can set to cpu or gpu(\"cpu\",\"cuda\")\n",
        "                               requires_grad=False) #whether or not to track gradients with this tensor operations\n",
        "float_32_tensor"
      ]
    },
    {
      "cell_type": "code",
      "execution_count": 35,
      "metadata": {
        "id": "MwIdK3geBKzt",
        "colab": {
          "base_uri": "https://localhost:8080/"
        },
        "outputId": "c658f30d-845c-41c8-b433-6d93508b7f6a"
      },
      "outputs": [
        {
          "output_type": "execute_result",
          "data": {
            "text/plain": [
              "torch.float32"
            ]
          },
          "metadata": {},
          "execution_count": 35
        }
      ],
      "source": [
        "float_32_tensor.dtype"
      ]
    },
    {
      "cell_type": "code",
      "execution_count": 36,
      "metadata": {
        "id": "A6gqFYNqGDej",
        "colab": {
          "base_uri": "https://localhost:8080/"
        },
        "outputId": "7d7bc0ad-eb9b-4c4a-a871-b3792e3d4c8d"
      },
      "outputs": [
        {
          "output_type": "execute_result",
          "data": {
            "text/plain": [
              "tensor([3., 6., 9.], dtype=torch.float16)"
            ]
          },
          "metadata": {},
          "execution_count": 36
        }
      ],
      "source": [
        "\n",
        "#Coverting the float32 tensor to float16\n",
        "float_16_tensor = float_32_tensor.type(torch.float16)\n",
        "float_16_tensor"
      ]
    },
    {
      "cell_type": "code",
      "execution_count": 37,
      "metadata": {
        "id": "h5B-8ukvHBH9",
        "colab": {
          "base_uri": "https://localhost:8080/"
        },
        "outputId": "23368e6f-beba-4a46-cf19-85424e4c0089"
      },
      "outputs": [
        {
          "output_type": "execute_result",
          "data": {
            "text/plain": [
              "tensor([ 9., 36., 81.])"
            ]
          },
          "metadata": {},
          "execution_count": 37
        }
      ],
      "source": [
        "float_16_tensor*float_32_tensor"
      ]
    },
    {
      "cell_type": "code",
      "execution_count": 38,
      "metadata": {
        "id": "8KmwHS84H4Ep",
        "colab": {
          "base_uri": "https://localhost:8080/"
        },
        "outputId": "8c8b6e6d-f461-4342-b430-4e689830c043"
      },
      "outputs": [
        {
          "output_type": "execute_result",
          "data": {
            "text/plain": [
              "tensor([3, 6, 9])"
            ]
          },
          "metadata": {},
          "execution_count": 38
        }
      ],
      "source": [
        "int_32_tensor=torch.tensor([3,6,9],dtype=torch.int64)\n",
        "int_32_tensor"
      ]
    },
    {
      "cell_type": "code",
      "execution_count": 39,
      "metadata": {
        "id": "k7x-ljrJ3y4e",
        "colab": {
          "base_uri": "https://localhost:8080/"
        },
        "outputId": "d122be6d-ea0d-497c-c5d8-2de6d67a5864"
      },
      "outputs": [
        {
          "output_type": "execute_result",
          "data": {
            "text/plain": [
              "tensor([ 9., 36., 81.])"
            ]
          },
          "metadata": {},
          "execution_count": 39
        }
      ],
      "source": [
        "float_32_tensor * int_32_tensor"
      ]
    },
    {
      "cell_type": "markdown",
      "metadata": {
        "id": "GGfcuUW54biO"
      },
      "source": [
        "### Getting information from tensors(Getting Attributes)\n",
        "1. Tensors not right datatype - to do ger datatype from a tensor, cab use tensor.dtype\n",
        "2. Tensors not right shape - to get from tensor, can use tensor.shape\n",
        "3. Tensors not on right device - to get device from trensor, can use tensor.device\n"
      ]
    },
    {
      "cell_type": "code",
      "execution_count": 40,
      "metadata": {
        "id": "bZkRhboF5u6N",
        "colab": {
          "base_uri": "https://localhost:8080/"
        },
        "outputId": "0f7791ae-d74e-47fd-c7be-3de6702f8d83"
      },
      "outputs": [
        {
          "output_type": "execute_result",
          "data": {
            "text/plain": [
              "tensor([[0.0688, 0.1622, 0.2406, 0.3733],\n",
              "        [0.8104, 0.7118, 0.5571, 0.7309],\n",
              "        [0.0052, 0.5336, 0.6613, 0.6829]])"
            ]
          },
          "metadata": {},
          "execution_count": 40
        }
      ],
      "source": [
        "# Create a tensor\n",
        "some_tensor = torch.rand(3,4)\n",
        "some_tensor"
      ]
    },
    {
      "cell_type": "code",
      "execution_count": 41,
      "metadata": {
        "id": "XhdTWRhu6BUk",
        "colab": {
          "base_uri": "https://localhost:8080/"
        },
        "outputId": "87baa95c-605e-4038-bf0e-068bd39467db"
      },
      "outputs": [
        {
          "output_type": "execute_result",
          "data": {
            "text/plain": [
              "(<function Tensor.size>, torch.Size([3, 4]))"
            ]
          },
          "metadata": {},
          "execution_count": 41
        }
      ],
      "source": [
        "some_tensor.size, some_tensor.shape"
      ]
    },
    {
      "cell_type": "code",
      "execution_count": 42,
      "metadata": {
        "id": "yfGq8UdF6HQv",
        "colab": {
          "base_uri": "https://localhost:8080/"
        },
        "outputId": "ea8bd0f2-e530-4c9f-fdca-e2fc9f6e2e90"
      },
      "outputs": [
        {
          "output_type": "execute_result",
          "data": {
            "text/plain": [
              "torch.Size([3, 4])"
            ]
          },
          "metadata": {},
          "execution_count": 42
        }
      ],
      "source": [
        "some_tensor.size()"
      ]
    },
    {
      "cell_type": "code",
      "execution_count": 43,
      "metadata": {
        "id": "grsRB7f86ZrZ",
        "colab": {
          "base_uri": "https://localhost:8080/"
        },
        "outputId": "60fd299d-f22a-434f-ddbf-7e2307ca3133"
      },
      "outputs": [
        {
          "output_type": "stream",
          "name": "stdout",
          "text": [
            "tensor([[0.0688, 0.1622, 0.2406, 0.3733],\n",
            "        [0.8104, 0.7118, 0.5571, 0.7309],\n",
            "        [0.0052, 0.5336, 0.6613, 0.6829]])\n",
            "Datatype of tensor:torch.float32\n",
            "Shape of tensor:torch.Size([3, 4])\n",
            "Devive tensor is on:cpu\n"
          ]
        }
      ],
      "source": [
        "#Find out details about some tensor\n",
        "print(some_tensor)\n",
        "print(f\"Datatype of tensor:{some_tensor.dtype}\")\n",
        "print(f\"Shape of tensor:{some_tensor.shape}\")\n",
        "print(f\"Devive tensor is on:{some_tensor.device}\")"
      ]
    },
    {
      "cell_type": "markdown",
      "metadata": {
        "id": "2hqFNoCW7Oh-"
      },
      "source": [
        " ### Manipulating Tensors (tensor operations)\n",
        "\n",
        " tensor operations include :\n",
        " * Addition\n",
        " * Subtraction\n",
        " * Multiplication(element wise)\n",
        " * Division\n",
        " * Matrix Multiplication"
      ]
    },
    {
      "cell_type": "code",
      "execution_count": 44,
      "metadata": {
        "id": "K1r9O0bc81i9",
        "colab": {
          "base_uri": "https://localhost:8080/"
        },
        "outputId": "e4adce3e-5ca8-4844-dfc5-00353ea5bda1"
      },
      "outputs": [
        {
          "output_type": "execute_result",
          "data": {
            "text/plain": [
              "tensor([11, 12, 13])"
            ]
          },
          "metadata": {},
          "execution_count": 44
        }
      ],
      "source": [
        "#Create a tensor\n",
        "tensor= torch.tensor([1,2,3])\n",
        "tensor+10"
      ]
    },
    {
      "cell_type": "code",
      "execution_count": 45,
      "metadata": {
        "id": "rmhTZ39U9VWd",
        "colab": {
          "base_uri": "https://localhost:8080/"
        },
        "outputId": "f92eac36-00e4-40c0-88a6-7b095c18a5d5"
      },
      "outputs": [
        {
          "output_type": "execute_result",
          "data": {
            "text/plain": [
              "tensor([10, 20, 30])"
            ]
          },
          "metadata": {},
          "execution_count": 45
        }
      ],
      "source": [
        "#Multiply tensor by 10\n",
        "tensor * 10"
      ]
    },
    {
      "cell_type": "code",
      "execution_count": 46,
      "metadata": {
        "id": "ok8odexi9frm",
        "colab": {
          "base_uri": "https://localhost:8080/"
        },
        "outputId": "fd94f7fa-8c9a-4f7f-bd13-5adeaeed784f"
      },
      "outputs": [
        {
          "output_type": "execute_result",
          "data": {
            "text/plain": [
              "tensor([-9, -8, -7])"
            ]
          },
          "metadata": {},
          "execution_count": 46
        }
      ],
      "source": [
        "#Substract by 10\n",
        "tensor-10"
      ]
    },
    {
      "cell_type": "code",
      "execution_count": 47,
      "metadata": {
        "id": "NiU0tzqO9lH1",
        "colab": {
          "base_uri": "https://localhost:8080/"
        },
        "outputId": "e357102d-3843-4589-8ffb-ef14b74af716"
      },
      "outputs": [
        {
          "output_type": "execute_result",
          "data": {
            "text/plain": [
              "tensor([10, 20, 30])"
            ]
          },
          "metadata": {},
          "execution_count": 47
        }
      ],
      "source": [
        "#trying out PyTorch in-built functions\n",
        "torch.mul(tensor,10)"
      ]
    },
    {
      "cell_type": "code",
      "execution_count": 48,
      "metadata": {
        "id": "1uOAQolw9xgL",
        "colab": {
          "base_uri": "https://localhost:8080/"
        },
        "outputId": "0c4df989-fc85-4f0c-f903-851d06969910"
      },
      "outputs": [
        {
          "output_type": "execute_result",
          "data": {
            "text/plain": [
              "tensor([30, 31, 32])"
            ]
          },
          "metadata": {},
          "execution_count": 48
        }
      ],
      "source": [
        "torch.add(tensor,29)"
      ]
    },
    {
      "cell_type": "markdown",
      "metadata": {
        "id": "PqQr3v8894il"
      },
      "source": [
        "from traitlets import dlink\n",
        "### Matrix Multiplication\n",
        "\n",
        "* Two main ways in neural networks and DL\n",
        "1. element wise mul\n",
        "2. Matrix Mul(dot product)\n",
        "\n",
        "there are two main rules that performing matrix multiplication needs to satisfy:\n",
        "1. The **inner dimensions** must match:\n",
        "* '(3,2) @ (3,2)' won't work\n",
        "* '(2,3) @ (3,2)' will work\n",
        "* '(3,2) @ (2,3)' will work\n",
        "\n",
        "2. The resulting matrix has the shape of the outer dimensions:\n",
        "* (2,3) @ (3,2) -> (2,2)\n",
        "* (3,2) @ (2,3) -> (3,3)\n"
      ]
    },
    {
      "cell_type": "code",
      "execution_count": 49,
      "metadata": {
        "id": "G4nHmkoWeeZH",
        "colab": {
          "base_uri": "https://localhost:8080/"
        },
        "outputId": "f2d03111-41e1-4d87-c1ad-ddd0e3bb3313"
      },
      "outputs": [
        {
          "output_type": "execute_result",
          "data": {
            "text/plain": [
              "tensor([[0.6544, 0.1337],\n",
              "        [1.2200, 0.7067]])"
            ]
          },
          "metadata": {},
          "execution_count": 49
        }
      ],
      "source": [
        "torch.matmul(torch.rand(2,3), torch.rand(3,2))"
      ]
    },
    {
      "cell_type": "code",
      "execution_count": 50,
      "metadata": {
        "id": "xhjh_Z5kiVgf",
        "colab": {
          "base_uri": "https://localhost:8080/"
        },
        "outputId": "200a9c3f-e775-4406-9623-954c324a1abf"
      },
      "outputs": [
        {
          "output_type": "execute_result",
          "data": {
            "text/plain": [
              "tensor([[2.5469, 3.1985, 1.7483],\n",
              "        [2.1724, 2.7887, 1.3674],\n",
              "        [2.4588, 2.6006, 2.4126]])"
            ]
          },
          "metadata": {},
          "execution_count": 50
        }
      ],
      "source": [
        "torch.matmul(torch.rand(3,10), torch.rand(10,3))"
      ]
    },
    {
      "cell_type": "code",
      "execution_count": 51,
      "metadata": {
        "id": "qMqA3qnrGmxY",
        "colab": {
          "base_uri": "https://localhost:8080/"
        },
        "outputId": "ad109f55-5878-4404-ec73-446677397fce"
      },
      "outputs": [
        {
          "output_type": "stream",
          "name": "stdout",
          "text": [
            "tensor([1, 2, 3]) * tensor([1, 2, 3])\n",
            "Equals:tensor([1, 4, 9])\n"
          ]
        }
      ],
      "source": [
        "#Element wise multiplication\n",
        "print(tensor,\"*\",tensor)\n",
        "print(f\"Equals:{tensor * tensor}\")"
      ]
    },
    {
      "cell_type": "code",
      "execution_count": 51,
      "metadata": {
        "id": "fr_b6nD4edma"
      },
      "outputs": [],
      "source": []
    },
    {
      "cell_type": "code",
      "execution_count": 52,
      "metadata": {
        "id": "9ooQosS3LfcQ",
        "colab": {
          "base_uri": "https://localhost:8080/"
        },
        "outputId": "f2064fe8-2d50-403b-dc07-b6858d4c0efc"
      },
      "outputs": [
        {
          "output_type": "execute_result",
          "data": {
            "text/plain": [
              "tensor(14)"
            ]
          },
          "metadata": {},
          "execution_count": 52
        }
      ],
      "source": [
        "#Matrix multiplication\n",
        "torch.matmul(tensor,tensor)"
      ]
    },
    {
      "cell_type": "code",
      "execution_count": 53,
      "metadata": {
        "id": "YnSPvWsPLymD",
        "colab": {
          "base_uri": "https://localhost:8080/"
        },
        "outputId": "8ae479d3-8923-43a6-a5fa-1ca2c7160efe"
      },
      "outputs": [
        {
          "output_type": "execute_result",
          "data": {
            "text/plain": [
              "14"
            ]
          },
          "metadata": {},
          "execution_count": 53
        }
      ],
      "source": [
        " 1*1+2*2+3*3"
      ]
    },
    {
      "cell_type": "code",
      "execution_count": 54,
      "metadata": {
        "id": "dJuCZKb2dj_0",
        "colab": {
          "base_uri": "https://localhost:8080/"
        },
        "outputId": "e78be4b1-a7cd-4e5e-ebe4-74236ba07c54"
      },
      "outputs": [
        {
          "output_type": "execute_result",
          "data": {
            "text/plain": [
              "tensor(14)"
            ]
          },
          "metadata": {},
          "execution_count": 54
        }
      ],
      "source": [
        "tensor @ tensor"
      ]
    },
    {
      "cell_type": "code",
      "execution_count": 55,
      "metadata": {
        "id": "-cq9NScCMPTl",
        "colab": {
          "base_uri": "https://localhost:8080/"
        },
        "outputId": "304119a2-42a6-4a8d-c9b5-199ec12f1a70"
      },
      "outputs": [
        {
          "output_type": "stream",
          "name": "stdout",
          "text": [
            "tensor(1)\n",
            "tensor(5)\n",
            "tensor(14)\n",
            "CPU times: user 3.8 ms, sys: 992 µs, total: 4.79 ms\n",
            "Wall time: 5.72 ms\n"
          ]
        }
      ],
      "source": [
        "%%time\n",
        "value=0\n",
        "for i in range (len(tensor)):\n",
        "  value+=tensor[i] * tensor[i]\n",
        "  print(value)"
      ]
    },
    {
      "cell_type": "code",
      "execution_count": 56,
      "metadata": {
        "id": "qOFxkS50MoIp",
        "colab": {
          "base_uri": "https://localhost:8080/"
        },
        "outputId": "88c8c852-5277-4ebc-e628-dc15cb8a90ed"
      },
      "outputs": [
        {
          "output_type": "stream",
          "name": "stdout",
          "text": [
            "CPU times: user 925 µs, sys: 90 µs, total: 1.02 ms\n",
            "Wall time: 953 µs\n"
          ]
        },
        {
          "output_type": "execute_result",
          "data": {
            "text/plain": [
              "tensor(14)"
            ]
          },
          "metadata": {},
          "execution_count": 56
        }
      ],
      "source": [
        "%%time\n",
        "torch.matmul(tensor,tensor)"
      ]
    },
    {
      "cell_type": "markdown",
      "metadata": {
        "id": "OojK7ZKWMwFi"
      },
      "source": [
        "### One of the most common error in deep leraning : shape errors"
      ]
    },
    {
      "cell_type": "code",
      "execution_count": 58,
      "metadata": {
        "id": "oNIlyv0PjCp1",
        "colab": {
          "base_uri": "https://localhost:8080/",
          "height": 215
        },
        "outputId": "168ca8f8-a89b-44ea-9f37-2bebec14f4d8"
      },
      "outputs": [
        {
          "output_type": "error",
          "ename": "RuntimeError",
          "evalue": "ignored",
          "traceback": [
            "\u001b[0;31m---------------------------------------------------------------------------\u001b[0m",
            "\u001b[0;31mRuntimeError\u001b[0m                              Traceback (most recent call last)",
            "\u001b[0;32m<ipython-input-58-be43a3d68f35>\u001b[0m in \u001b[0;36m<cell line: 10>\u001b[0;34m()\u001b[0m\n\u001b[1;32m      8\u001b[0m \u001b[0;34m\u001b[0m\u001b[0m\n\u001b[1;32m      9\u001b[0m \u001b[0;31m#torch.mm(tensor_A,tensor_B) #torch.mm is th same as torch.matmul (it's an alias for writing less code)\u001b[0m\u001b[0;34m\u001b[0m\u001b[0;34m\u001b[0m\u001b[0m\n\u001b[0;32m---> 10\u001b[0;31m \u001b[0mtorch\u001b[0m\u001b[0;34m.\u001b[0m\u001b[0mmatmul\u001b[0m\u001b[0;34m(\u001b[0m\u001b[0mtensor_A\u001b[0m\u001b[0;34m,\u001b[0m\u001b[0mtensor_B\u001b[0m\u001b[0;34m)\u001b[0m\u001b[0;34m\u001b[0m\u001b[0;34m\u001b[0m\u001b[0m\n\u001b[0m",
            "\u001b[0;31mRuntimeError\u001b[0m: mat1 and mat2 shapes cannot be multiplied (3x2 and 3x2)"
          ]
        }
      ],
      "source": [
        "#Shapes for Matrix multiplication\n",
        "tensor_A = torch.tensor([[1,2],\n",
        "                         [3,4],\n",
        "                         [5,6]])\n",
        "tensor_B = torch.tensor([[7,10],\n",
        "                         [8,11],\n",
        "                         [9,12]])\n",
        "\n",
        "#torch.mm(tensor_A,tensor_B) #torch.mm is th same as torch.matmul (it's an alias for writing less code)\n",
        "torch.matmul(tensor_A,tensor_B)"
      ]
    },
    {
      "cell_type": "code",
      "execution_count": 59,
      "metadata": {
        "id": "9gmMkqioFrmI",
        "colab": {
          "base_uri": "https://localhost:8080/"
        },
        "outputId": "23c076fe-575a-4305-c8d7-e9205de5765b"
      },
      "outputs": [
        {
          "output_type": "execute_result",
          "data": {
            "text/plain": [
              "(torch.Size([3, 2]), torch.Size([3, 2]))"
            ]
          },
          "metadata": {},
          "execution_count": 59
        }
      ],
      "source": [
        "tensor_A.shape, tensor_B.shape"
      ]
    },
    {
      "cell_type": "markdown",
      "metadata": {
        "id": "8roY9iqSGB8Y"
      },
      "source": [
        "#To fix our tensor shape issue, we can manipulate the shape of one of our tensors using a *transpose*\n",
        "A transpose switches the axes of dimensions of a given tensor"
      ]
    },
    {
      "cell_type": "code",
      "execution_count": 60,
      "metadata": {
        "id": "J0jEMjd9G69s",
        "colab": {
          "base_uri": "https://localhost:8080/"
        },
        "outputId": "8ae99c12-5404-4c82-9d47-1d0bcabab29c"
      },
      "outputs": [
        {
          "output_type": "execute_result",
          "data": {
            "text/plain": [
              "(tensor([[ 7, 10],\n",
              "         [ 8, 11],\n",
              "         [ 9, 12]]),\n",
              " torch.Size([3, 2]))"
            ]
          },
          "metadata": {},
          "execution_count": 60
        }
      ],
      "source": [
        "tensor_B, tensor_B.shape"
      ]
    },
    {
      "cell_type": "code",
      "execution_count": 61,
      "metadata": {
        "id": "pWd23bRWHD8p",
        "colab": {
          "base_uri": "https://localhost:8080/"
        },
        "outputId": "08729aa9-55ee-4682-d9fe-c0c579734330"
      },
      "outputs": [
        {
          "output_type": "execute_result",
          "data": {
            "text/plain": [
              "(tensor([[ 7,  8,  9],\n",
              "         [10, 11, 12]]),\n",
              " torch.Size([2, 3]))"
            ]
          },
          "metadata": {},
          "execution_count": 61
        }
      ],
      "source": [
        "tensor_B.T , tensor_B.T.shape"
      ]
    },
    {
      "cell_type": "code",
      "execution_count": 62,
      "metadata": {
        "id": "PELpGzLAHM0_",
        "colab": {
          "base_uri": "https://localhost:8080/"
        },
        "outputId": "73d79049-97da-442b-82ba-f52a1efb5014"
      },
      "outputs": [
        {
          "output_type": "stream",
          "name": "stdout",
          "text": [
            "Original shapes: tebsor_A = torch.Size([3, 2]), tensor_B = torch.Size([3, 2])\n",
            "New shapes : tebsor_A = torch.Size([3, 2])(same as above), tensor_B = tensor([[ 7,  8,  9],\n",
            "        [10, 11, 12]])\n",
            "Multiplying: torch.Size([3, 2]) @ tensor([[ 7,  8,  9],\n",
            "        [10, 11, 12]]) <- inner dimensions must match\n",
            "Output:\n",
            "\n",
            "tensor([[ 27,  30,  33],\n",
            "        [ 61,  68,  75],\n",
            "        [ 95, 106, 117]])\n",
            "\n",
            "Output shape: torch.Size([3, 3])\n"
          ]
        }
      ],
      "source": [
        "# The matrix multiplication operationworks when tebsor_B is transposed\n",
        "print(f\"Original shapes: tebsor_A = {tensor_A.shape}, tensor_B = {tensor_B.shape}\")\n",
        "print(f\"New shapes : tebsor_A = {tensor_A.shape}(same as above), tensor_B = {tensor_B.T}\")\n",
        "print(f\"Multiplying: {tensor_A.shape} @ {tensor_B.T} <- inner dimensions must match\")\n",
        "print(\"Output:\\n\")\n",
        "output = torch.matmul(tensor_A,tensor_B.T)\n",
        "print(output)\n",
        "print(f\"\\nOutput shape: {output.shape}\")\n"
      ]
    },
    {
      "cell_type": "code",
      "execution_count": 63,
      "metadata": {
        "id": "FFV40WNSHqZZ",
        "colab": {
          "base_uri": "https://localhost:8080/"
        },
        "outputId": "28cb9d35-65c6-413e-ce48-53ff7292c9fd"
      },
      "outputs": [
        {
          "output_type": "execute_result",
          "data": {
            "text/plain": [
              "torch.Size([3, 3])"
            ]
          },
          "metadata": {},
          "execution_count": 63
        }
      ],
      "source": [
        "torch.matmul(tensor_A,tensor_B.T).shape"
      ]
    },
    {
      "cell_type": "markdown",
      "source": [
        "### Finding the min,max,mean,sum,etc(tensor aggregation)"
      ],
      "metadata": {
        "id": "kVdSZfg5HyoG"
      }
    },
    {
      "cell_type": "code",
      "source": [
        "#Create a tensor\n",
        "x= torch.arange(1,100,10)\n",
        "x"
      ],
      "metadata": {
        "colab": {
          "base_uri": "https://localhost:8080/"
        },
        "id": "IeWVJb32pjOo",
        "outputId": "babc9b18-c159-430b-c5f2-a3e962743e97"
      },
      "execution_count": 64,
      "outputs": [
        {
          "output_type": "execute_result",
          "data": {
            "text/plain": [
              "tensor([ 1, 11, 21, 31, 41, 51, 61, 71, 81, 91])"
            ]
          },
          "metadata": {},
          "execution_count": 64
        }
      ]
    },
    {
      "cell_type": "code",
      "source": [
        "#Find the min\n",
        "torch.min(x), x.min()"
      ],
      "metadata": {
        "colab": {
          "base_uri": "https://localhost:8080/"
        },
        "id": "_ssgkLZepwFA",
        "outputId": "e6481609-e118-47d5-fbb6-52ed0ef6b60f"
      },
      "execution_count": 65,
      "outputs": [
        {
          "output_type": "execute_result",
          "data": {
            "text/plain": [
              "(tensor(1), tensor(1))"
            ]
          },
          "metadata": {},
          "execution_count": 65
        }
      ]
    },
    {
      "cell_type": "code",
      "source": [
        "#Find the max\n",
        "torch.max(x) , x.max()"
      ],
      "metadata": {
        "colab": {
          "base_uri": "https://localhost:8080/"
        },
        "id": "7BYJYcxqp22t",
        "outputId": "5b206c3f-83f2-44a9-b334-010cfe45ab31"
      },
      "execution_count": 66,
      "outputs": [
        {
          "output_type": "execute_result",
          "data": {
            "text/plain": [
              "(tensor(91), tensor(91))"
            ]
          },
          "metadata": {},
          "execution_count": 66
        }
      ]
    },
    {
      "cell_type": "code",
      "source": [
        "#Find the mean\n",
        "torch.mean(x.type(torch.float32))"
      ],
      "metadata": {
        "colab": {
          "base_uri": "https://localhost:8080/"
        },
        "id": "a9A2yNz5p-MZ",
        "outputId": "3f4ee3a1-8f1b-4a3c-a817-bf55ca6af78d"
      },
      "execution_count": 67,
      "outputs": [
        {
          "output_type": "execute_result",
          "data": {
            "text/plain": [
              "tensor(46.)"
            ]
          },
          "metadata": {},
          "execution_count": 67
        }
      ]
    },
    {
      "cell_type": "code",
      "source": [
        "x.type(torch.float32).mean()"
      ],
      "metadata": {
        "colab": {
          "base_uri": "https://localhost:8080/"
        },
        "id": "TLpz2YJSqHmp",
        "outputId": "b09b8a66-f7a3-4416-ad68-8665d8be101a"
      },
      "execution_count": 68,
      "outputs": [
        {
          "output_type": "execute_result",
          "data": {
            "text/plain": [
              "tensor(46.)"
            ]
          },
          "metadata": {},
          "execution_count": 68
        }
      ]
    },
    {
      "cell_type": "code",
      "source": [
        "#Find the sum\n",
        "torch.sum(x) , x.sum()"
      ],
      "metadata": {
        "colab": {
          "base_uri": "https://localhost:8080/"
        },
        "id": "VhLQdwVnqwzU",
        "outputId": "5bdadf3e-ecd9-438f-f22b-44625e0eef39"
      },
      "execution_count": 69,
      "outputs": [
        {
          "output_type": "execute_result",
          "data": {
            "text/plain": [
              "(tensor(460), tensor(460))"
            ]
          },
          "metadata": {},
          "execution_count": 69
        }
      ]
    },
    {
      "cell_type": "markdown",
      "source": [
        "###Finding the positional min and max"
      ],
      "metadata": {
        "id": "ML5pRolZq3cS"
      }
    },
    {
      "cell_type": "code",
      "source": [
        "x"
      ],
      "metadata": {
        "colab": {
          "base_uri": "https://localhost:8080/"
        },
        "id": "hb7qKSTtrqRA",
        "outputId": "ffc4486f-dc7e-4c45-b555-a546009cd0c5"
      },
      "execution_count": 70,
      "outputs": [
        {
          "output_type": "execute_result",
          "data": {
            "text/plain": [
              "tensor([ 1, 11, 21, 31, 41, 51, 61, 71, 81, 91])"
            ]
          },
          "metadata": {},
          "execution_count": 70
        }
      ]
    },
    {
      "cell_type": "code",
      "source": [
        "# Finds the position in tensor that has the minimum value with argmin() -> returns index position of target where the minimum value occurs\n",
        "x.argmin()"
      ],
      "metadata": {
        "colab": {
          "base_uri": "https://localhost:8080/"
        },
        "id": "izVC5vY2rrTm",
        "outputId": "f8d82383-da1f-4144-fd94-a7e851b053af"
      },
      "execution_count": 71,
      "outputs": [
        {
          "output_type": "execute_result",
          "data": {
            "text/plain": [
              "tensor(0)"
            ]
          },
          "metadata": {},
          "execution_count": 71
        }
      ]
    },
    {
      "cell_type": "code",
      "source": [
        "#Find the position in tensor that has the maximum value with argmax()\n",
        "x.argmax()"
      ],
      "metadata": {
        "colab": {
          "base_uri": "https://localhost:8080/"
        },
        "id": "LipSoVRVsHy5",
        "outputId": "36276ded-be0b-4e38-d2a6-66741fc4aac7"
      },
      "execution_count": 72,
      "outputs": [
        {
          "output_type": "execute_result",
          "data": {
            "text/plain": [
              "tensor(9)"
            ]
          },
          "metadata": {},
          "execution_count": 72
        }
      ]
    },
    {
      "cell_type": "code",
      "source": [
        "x[9]"
      ],
      "metadata": {
        "colab": {
          "base_uri": "https://localhost:8080/"
        },
        "id": "SVN3fnAYsaAX",
        "outputId": "40e3b9cd-2f1e-499c-a278-4c24ab272470"
      },
      "execution_count": 73,
      "outputs": [
        {
          "output_type": "execute_result",
          "data": {
            "text/plain": [
              "tensor(91)"
            ]
          },
          "metadata": {},
          "execution_count": 73
        }
      ]
    },
    {
      "cell_type": "markdown",
      "source": [
        "## Reshaping, stacking, squeezing and unsqueezing tensors\n",
        "* Reshaping - reshapes an input tensor to a defined shape\n",
        "* View - Return a view of an input tensor of certain shape but keep the same memory as the original tensor\n",
        "* Stacking -  Combine multiple tensors on top of eah other (vstack) or side by side (hstack)\n",
        "* Squeeze - removes all '1' dimensions to a target tensor\n",
        "* Unsqueeze - Add '1' dimension. to a target tensor\n",
        "* Permute - Return a view of the input with dimensions permuted(swapped) in a certain way\n"
      ],
      "metadata": {
        "id": "0U5vmTE2s5oG"
      }
    },
    {
      "cell_type": "code",
      "source": [
        "#Lets create a tensor\n",
        "import torch\n",
        "x= torch.arange(1.,10.)\n",
        "x,x.shape"
      ],
      "metadata": {
        "colab": {
          "base_uri": "https://localhost:8080/"
        },
        "id": "NWtR6S0Jumt6",
        "outputId": "7cfe4986-b56f-4666-e5dd-91f8c8d659b5"
      },
      "execution_count": 74,
      "outputs": [
        {
          "output_type": "execute_result",
          "data": {
            "text/plain": [
              "(tensor([1., 2., 3., 4., 5., 6., 7., 8., 9.]), torch.Size([9]))"
            ]
          },
          "metadata": {},
          "execution_count": 74
        }
      ]
    },
    {
      "cell_type": "code",
      "source": [
        "#Add an exta dimension\n",
        "x_reshaped = x.reshape(1,9)\n",
        "x_reshaped, x_reshaped.shape"
      ],
      "metadata": {
        "colab": {
          "base_uri": "https://localhost:8080/"
        },
        "id": "l-phAqccvhzQ",
        "outputId": "ad90c84b-4adc-4692-a3c5-74689c5682b4"
      },
      "execution_count": 75,
      "outputs": [
        {
          "output_type": "execute_result",
          "data": {
            "text/plain": [
              "(tensor([[1., 2., 3., 4., 5., 6., 7., 8., 9.]]), torch.Size([1, 9]))"
            ]
          },
          "metadata": {},
          "execution_count": 75
        }
      ]
    },
    {
      "cell_type": "code",
      "source": [
        "#Change the view\n",
        "z= x.view(1,9)\n",
        "z,z.shape"
      ],
      "metadata": {
        "colab": {
          "base_uri": "https://localhost:8080/"
        },
        "id": "SJQ3Y9VO9Fyo",
        "outputId": "f55b73d5-5570-43d4-fb0d-d5f97d657140"
      },
      "execution_count": 76,
      "outputs": [
        {
          "output_type": "execute_result",
          "data": {
            "text/plain": [
              "(tensor([[1., 2., 3., 4., 5., 6., 7., 8., 9.]]), torch.Size([1, 9]))"
            ]
          },
          "metadata": {},
          "execution_count": 76
        }
      ]
    },
    {
      "cell_type": "code",
      "source": [
        "#Changing z changes x (because a view of a tensor shares the same memory as the original input)\n",
        "z[:,0] = 5\n",
        "z,x"
      ],
      "metadata": {
        "colab": {
          "base_uri": "https://localhost:8080/"
        },
        "id": "-GqboeyJ-dbF",
        "outputId": "6b303d2f-80b4-4a30-9900-6a0d56ad28f2"
      },
      "execution_count": 77,
      "outputs": [
        {
          "output_type": "execute_result",
          "data": {
            "text/plain": [
              "(tensor([[5., 2., 3., 4., 5., 6., 7., 8., 9.]]),\n",
              " tensor([5., 2., 3., 4., 5., 6., 7., 8., 9.]))"
            ]
          },
          "metadata": {},
          "execution_count": 77
        }
      ]
    },
    {
      "cell_type": "code",
      "source": [
        "#Stack tensors on top of each other\n",
        "x_stacked = torch.stack([x,x,x,x] , dim=0)\n",
        "x_stacked"
      ],
      "metadata": {
        "colab": {
          "base_uri": "https://localhost:8080/"
        },
        "id": "Uq5R9Kqn-yTN",
        "outputId": "fba44c91-05a5-45d1-a23d-9c52eebb4fe7"
      },
      "execution_count": 78,
      "outputs": [
        {
          "output_type": "execute_result",
          "data": {
            "text/plain": [
              "tensor([[5., 2., 3., 4., 5., 6., 7., 8., 9.],\n",
              "        [5., 2., 3., 4., 5., 6., 7., 8., 9.],\n",
              "        [5., 2., 3., 4., 5., 6., 7., 8., 9.],\n",
              "        [5., 2., 3., 4., 5., 6., 7., 8., 9.]])"
            ]
          },
          "metadata": {},
          "execution_count": 78
        }
      ]
    },
    {
      "cell_type": "code",
      "source": [
        "#torch.squeeze () - removes all single dimensions from a target tensor\n",
        "print(f\"Previous tensor :{x_reshaped}\")\n",
        "print(f\"Previous shape : {x_reshaped.shape}\")\n",
        "\n",
        "#Remove extra dimensions from x_reshaped\n",
        "x_squeezed = x_reshaped.squeeze()\n",
        "print(f\"\\nNew tensor : {x_squeezed}\")\n",
        "print(f\"New shape :{x_squeezed.shape}\")\n"
      ],
      "metadata": {
        "colab": {
          "base_uri": "https://localhost:8080/"
        },
        "id": "q666cps6_L0-",
        "outputId": "025a24fa-e399-480e-a581-4480bd1dd40c"
      },
      "execution_count": 79,
      "outputs": [
        {
          "output_type": "stream",
          "name": "stdout",
          "text": [
            "Previous tensor :tensor([[5., 2., 3., 4., 5., 6., 7., 8., 9.]])\n",
            "Previous shape : torch.Size([1, 9])\n",
            "\n",
            "New tensor : tensor([5., 2., 3., 4., 5., 6., 7., 8., 9.])\n",
            "New shape :torch.Size([9])\n"
          ]
        }
      ]
    },
    {
      "cell_type": "code",
      "source": [
        "# torch.unsqueeze() - adds a single dimension to a target tensor at a specific dim (dimension)\n",
        "print(f\"Previous target :{x_squeezed}\")\n",
        "print(f\"Previous shape: {x_squeezed.shape}\")\n",
        "\n",
        "#Add an extra dimension with unsqueeze\n",
        "x_unsqueezed = x_squeezed.unsqueeze(dim=0)\n",
        "print(f\"\\nNew tensor :{x_unsqueezed}\")\n",
        "print(f\"New shape: {x_unsqueezed.shape}\")"
      ],
      "metadata": {
        "colab": {
          "base_uri": "https://localhost:8080/"
        },
        "id": "zWWfysZeAPlq",
        "outputId": "94b1f82a-7e28-44e4-9981-0a74cd0e5e89"
      },
      "execution_count": 80,
      "outputs": [
        {
          "output_type": "stream",
          "name": "stdout",
          "text": [
            "Previous target :tensor([5., 2., 3., 4., 5., 6., 7., 8., 9.])\n",
            "Previous shape: torch.Size([9])\n",
            "\n",
            "New tensor :tensor([[5., 2., 3., 4., 5., 6., 7., 8., 9.]])\n",
            "New shape: torch.Size([1, 9])\n"
          ]
        }
      ]
    },
    {
      "cell_type": "code",
      "source": [
        "x_reshaped.squeeze().shape"
      ],
      "metadata": {
        "colab": {
          "base_uri": "https://localhost:8080/"
        },
        "id": "a24mPryEAclk",
        "outputId": "c2623668-c8f5-4180-8e93-d54a4c01a00e"
      },
      "execution_count": 81,
      "outputs": [
        {
          "output_type": "execute_result",
          "data": {
            "text/plain": [
              "torch.Size([9])"
            ]
          },
          "metadata": {},
          "execution_count": 81
        }
      ]
    },
    {
      "cell_type": "code",
      "source": [
        "#torch.permute - rearranges the dimesions of a target tensor in a specified order\n",
        "x_original = torch.rand(size=(224,224,3)) #[Height,Width,colour_channels]\n",
        "#Permute the original tensor to rearrange the axis (or dim) order\n",
        "x_permuted = x_original.permute(2,0,1) #shifts axis 0->1, 1->2, 2->0\n",
        "\n",
        "print(f\"Previous shape:{x_original.shape}\")\n",
        "print(f\"New shape:{x_permuted.shape}\") # [colour_channels, height,width]\n"
      ],
      "metadata": {
        "colab": {
          "base_uri": "https://localhost:8080/"
        },
        "id": "eKcEfxS4AlBz",
        "outputId": "4ebed02b-1f1f-4d8c-bdaa-5b161b345d07"
      },
      "execution_count": 82,
      "outputs": [
        {
          "output_type": "stream",
          "name": "stdout",
          "text": [
            "Previous shape:torch.Size([224, 224, 3])\n",
            "New shape:torch.Size([3, 224, 224])\n"
          ]
        }
      ]
    },
    {
      "cell_type": "code",
      "source": [
        "x_original[0,0,0] = 728218\n",
        "x_original[0,0,0], x_permuted[0,0,0]"
      ],
      "metadata": {
        "id": "qeo4qM2zQvuh",
        "colab": {
          "base_uri": "https://localhost:8080/"
        },
        "outputId": "829226e5-20a9-41e2-9ec8-c11a7364693e"
      },
      "execution_count": 83,
      "outputs": [
        {
          "output_type": "execute_result",
          "data": {
            "text/plain": [
              "(tensor(728218.), tensor(728218.))"
            ]
          },
          "metadata": {},
          "execution_count": 83
        }
      ]
    },
    {
      "cell_type": "markdown",
      "source": [
        "###Indexing(selecting data from tensors)\n",
        "\n",
        "Indexing with PyTorch is similar to indexing with NumPy"
      ],
      "metadata": {
        "id": "N4FPdnsiQ4xl"
      }
    },
    {
      "cell_type": "code",
      "source": [
        "#Create a tensor\n",
        "import torch\n",
        "x= torch.arange(1,10).reshape(1,3,3)\n",
        "x,x.shape"
      ],
      "metadata": {
        "id": "Bkp0kqLuRWlp",
        "colab": {
          "base_uri": "https://localhost:8080/"
        },
        "outputId": "566fdb51-bd94-445f-98e8-855a1324bc4a"
      },
      "execution_count": 84,
      "outputs": [
        {
          "output_type": "execute_result",
          "data": {
            "text/plain": [
              "(tensor([[[1, 2, 3],\n",
              "          [4, 5, 6],\n",
              "          [7, 8, 9]]]),\n",
              " torch.Size([1, 3, 3]))"
            ]
          },
          "metadata": {},
          "execution_count": 84
        }
      ]
    },
    {
      "cell_type": "code",
      "source": [
        "#Lets index on our new tensor\n",
        "x[0]"
      ],
      "metadata": {
        "colab": {
          "base_uri": "https://localhost:8080/"
        },
        "id": "cHm61VYVFN3_",
        "outputId": "bd879d6d-6ce8-414a-c697-57dc7dc03430"
      },
      "execution_count": 85,
      "outputs": [
        {
          "output_type": "execute_result",
          "data": {
            "text/plain": [
              "tensor([[1, 2, 3],\n",
              "        [4, 5, 6],\n",
              "        [7, 8, 9]])"
            ]
          },
          "metadata": {},
          "execution_count": 85
        }
      ]
    },
    {
      "cell_type": "code",
      "source": [
        "#Lets index on middle bracket(dim=1)\n",
        "x[0][0]"
      ],
      "metadata": {
        "colab": {
          "base_uri": "https://localhost:8080/"
        },
        "id": "OroDFEzlFrO2",
        "outputId": "b7df844e-ae53-43eb-ad78-b3e54aa15747"
      },
      "execution_count": 86,
      "outputs": [
        {
          "output_type": "execute_result",
          "data": {
            "text/plain": [
              "tensor([1, 2, 3])"
            ]
          },
          "metadata": {},
          "execution_count": 86
        }
      ]
    },
    {
      "cell_type": "code",
      "source": [
        "#lets index on most inner bracket\n",
        "x[0][0][0]"
      ],
      "metadata": {
        "colab": {
          "base_uri": "https://localhost:8080/"
        },
        "id": "244P7LUXF1qD",
        "outputId": "e2ed0c16-4a91-4695-f825-be7c0b7331bc"
      },
      "execution_count": 87,
      "outputs": [
        {
          "output_type": "execute_result",
          "data": {
            "text/plain": [
              "tensor(1)"
            ]
          },
          "metadata": {},
          "execution_count": 87
        }
      ]
    },
    {
      "cell_type": "code",
      "source": [
        "#You can also use \":\" to select \"all\" of a target dimension\n",
        "x[:, 0]"
      ],
      "metadata": {
        "colab": {
          "base_uri": "https://localhost:8080/"
        },
        "id": "VVqfpwFnF6np",
        "outputId": "bc4a77db-8924-49bf-d885-1c45b6012a40"
      },
      "execution_count": 88,
      "outputs": [
        {
          "output_type": "execute_result",
          "data": {
            "text/plain": [
              "tensor([[1, 2, 3]])"
            ]
          },
          "metadata": {},
          "execution_count": 88
        }
      ]
    },
    {
      "cell_type": "code",
      "source": [
        "#Get all values of Oth and 1st dimensions but only index 1 of 2nd dimension\n",
        "x[:,:,1]"
      ],
      "metadata": {
        "colab": {
          "base_uri": "https://localhost:8080/"
        },
        "id": "EDHt798JG18i",
        "outputId": "dbd5c2d4-80f8-453e-fe63-3ee7f1e61430"
      },
      "execution_count": 89,
      "outputs": [
        {
          "output_type": "execute_result",
          "data": {
            "text/plain": [
              "tensor([[2, 5, 8]])"
            ]
          },
          "metadata": {},
          "execution_count": 89
        }
      ]
    },
    {
      "cell_type": "code",
      "source": [
        "#Get all values of the 0 dimension but only 1 index value of 1st and 2nd dimension\n",
        "x[:,1,1]"
      ],
      "metadata": {
        "colab": {
          "base_uri": "https://localhost:8080/"
        },
        "id": "FCXTg6V8HVl5",
        "outputId": "8544bffa-0939-4c26-a510-6a16a6aa9303"
      },
      "execution_count": 90,
      "outputs": [
        {
          "output_type": "execute_result",
          "data": {
            "text/plain": [
              "tensor([5])"
            ]
          },
          "metadata": {},
          "execution_count": 90
        }
      ]
    },
    {
      "cell_type": "code",
      "source": [
        "#Get index 0 of 0th and 1st dimension and all values of 2nd dimension\n",
        "x[0,0,:]"
      ],
      "metadata": {
        "id": "GF15bi9_IP5v",
        "colab": {
          "base_uri": "https://localhost:8080/"
        },
        "outputId": "c0a89b0f-c0a0-43e7-fbfc-998cf61bde55"
      },
      "execution_count": 91,
      "outputs": [
        {
          "output_type": "execute_result",
          "data": {
            "text/plain": [
              "tensor([1, 2, 3])"
            ]
          },
          "metadata": {},
          "execution_count": 91
        }
      ]
    },
    {
      "cell_type": "code",
      "source": [
        "#Index on x to return 9\n",
        "x[0,2,2]\n",
        "\n"
      ],
      "metadata": {
        "id": "Fq8_ua_2HoPg",
        "colab": {
          "base_uri": "https://localhost:8080/"
        },
        "outputId": "5087e92e-fa52-41c9-b2ee-de4ab92611b8"
      },
      "execution_count": 92,
      "outputs": [
        {
          "output_type": "execute_result",
          "data": {
            "text/plain": [
              "tensor(9)"
            ]
          },
          "metadata": {},
          "execution_count": 92
        }
      ]
    },
    {
      "cell_type": "code",
      "source": [
        "#Index on x to return 3,6,9\n",
        "x[:,:,2]"
      ],
      "metadata": {
        "colab": {
          "base_uri": "https://localhost:8080/"
        },
        "id": "SKuvv9u8srqA",
        "outputId": "de0087fc-22ea-4d83-f1d1-a7cacbac30f5"
      },
      "execution_count": 93,
      "outputs": [
        {
          "output_type": "execute_result",
          "data": {
            "text/plain": [
              "tensor([[3, 6, 9]])"
            ]
          },
          "metadata": {},
          "execution_count": 93
        }
      ]
    },
    {
      "cell_type": "code",
      "source": [
        "x[0,2]"
      ],
      "metadata": {
        "colab": {
          "base_uri": "https://localhost:8080/"
        },
        "id": "im5xXOZvsyhi",
        "outputId": "154defd9-474f-4131-a42f-846970d26d60"
      },
      "execution_count": 94,
      "outputs": [
        {
          "output_type": "execute_result",
          "data": {
            "text/plain": [
              "tensor([7, 8, 9])"
            ]
          },
          "metadata": {},
          "execution_count": 94
        }
      ]
    },
    {
      "cell_type": "code",
      "source": [
        "x[:,:,0]"
      ],
      "metadata": {
        "colab": {
          "base_uri": "https://localhost:8080/"
        },
        "id": "CnUyYR5ns98H",
        "outputId": "e0b2b5db-3f2f-4caf-8227-f6f039e58550"
      },
      "execution_count": 95,
      "outputs": [
        {
          "output_type": "execute_result",
          "data": {
            "text/plain": [
              "tensor([[1, 4, 7]])"
            ]
          },
          "metadata": {},
          "execution_count": 95
        }
      ]
    },
    {
      "cell_type": "code",
      "source": [],
      "metadata": {
        "id": "ABq8IyDQtCF0"
      },
      "execution_count": 95,
      "outputs": []
    }
  ],
  "metadata": {
    "colab": {
      "provenance": [],
      "authorship_tag": "ABX9TyNwdlPsA8TXne7ZYdQt+KNa",
      "include_colab_link": true
    },
    "kernelspec": {
      "display_name": "Python 3",
      "name": "python3"
    },
    "language_info": {
      "name": "python"
    }
  },
  "nbformat": 4,
  "nbformat_minor": 0
}